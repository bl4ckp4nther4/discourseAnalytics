{
 "metadata": {
  "language_info": {
   "codemirror_mode": {
    "name": "ipython",
    "version": 3
   },
   "file_extension": ".py",
   "mimetype": "text/x-python",
   "name": "python",
   "nbconvert_exporter": "python",
   "pygments_lexer": "ipython3",
   "version": "3.8.8"
  },
  "orig_nbformat": 4,
  "kernelspec": {
   "name": "python3",
   "display_name": "Python 3.8.8 64-bit ('base': conda)"
  },
  "interpreter": {
   "hash": "98b980470ef6997be3337dcc39dafb0b3265acb833033ca39c894c346d1a3731"
  }
 },
 "nbformat": 4,
 "nbformat_minor": 2,
 "cells": [
  {
   "cell_type": "code",
   "execution_count": null,
   "source": [
    "# testing\r\n",
    "%run python_script/test/reduced_test_suite.py"
   ],
   "outputs": [],
   "metadata": {
    "tags": []
   }
  },
  {
   "cell_type": "markdown",
   "source": [
    "Loading the dataset"
   ],
   "metadata": {}
  },
  {
   "cell_type": "code",
   "execution_count": 2,
   "source": [
    "# imports\r\n",
    "from python_script.data.website_base_data import WEBSITE_URL\r\n",
    "from python_script.data.discourse_dataset import DiscourseDataset as Dataset\r\n",
    "\r\n",
    "# making dataset\r\n",
    "dataset = Dataset(WEBSITE_URL)"
   ],
   "outputs": [],
   "metadata": {}
  },
  {
   "cell_type": "markdown",
   "source": [
    "## Data manipulation\r\n",
    "\r\n",
    "Choosing a timeframe of one year before march 2020 and one year after march 2020 "
   ],
   "metadata": {}
  },
  {
   "cell_type": "code",
   "execution_count": 11,
   "source": [
    "import datetime\r\n",
    "\r\n",
    "one_year_before_corona = datetime.datetime(2019, 3, 1, 0, 0)\r\n",
    "corona_start = datetime.datetime(2020, 3, 1, 0, 0)\r\n",
    "one_year_after_corona = datetime.datetime(2021, 3, 1, 0, 0)\r\n",
    "\r\n",
    "dateset_full_timeframe = dataset(post_after=one_year_before_corona, post_before=one_year_after_corona)\r\n",
    "dataset_pre_corona = dataset(post_after=one_year_before_corona, post_before=corona_start)\r\n",
    "dataset_peri_corona = dataset(post_after=corona_start, post_before=one_year_after_corona)\r\n",
    "\r\n",
    "print(len(dataset_pre_corona))\r\n",
    "print(len(dataset_peri_corona))"
   ],
   "outputs": [
    {
     "output_type": "stream",
     "name": "stdout",
     "text": [
      "4991\n",
      "2820\n"
     ]
    }
   ],
   "metadata": {}
  },
  {
   "cell_type": "markdown",
   "source": [
    "Selecting only posts by members"
   ],
   "metadata": {}
  },
  {
   "cell_type": "code",
   "execution_count": 14,
   "source": [
    "members_only = dateset_full_timeframe(member_status=\"Member\")\r\n",
    "\r\n",
    "print(len(members_only['username']))"
   ],
   "outputs": [
    {
     "output_type": "stream",
     "name": "stdout",
     "text": [
      "221\n"
     ]
    }
   ],
   "metadata": {}
  },
  {
   "cell_type": "markdown",
   "source": [
    "choosing 50 profiles at random"
   ],
   "metadata": {}
  },
  {
   "cell_type": "code",
   "execution_count": 23,
   "source": [
    "import random\r\n",
    "\r\n",
    "num_samples = 50\r\n",
    "\r\n",
    "# make sure always the same randon samples are taken\r\n",
    "random.seed(1498501159433857)\r\n",
    "usernames = random.sample(members_only['username'], num_samples)\r\n",
    "\r\n",
    "for username in usernames:\r\n",
    "    print(username)\r\n",
    "    print(len(members_only(username=username)))\r\n",
    "\r\n",
    "print(members_only(username=\"Mell\"))"
   ],
   "outputs": [
    {
     "output_type": "stream",
     "name": "stdout",
     "text": [
      "smjmaker\n",
      "18\n",
      "Clix\n",
      "26\n",
      "Mell\n",
      "1\n",
      "Stuart\n",
      "19\n",
      "dsikar\n",
      "28\n",
      "IanB\n",
      "13\n",
      "Alec\n",
      "2\n",
      "Matt_Cliffe\n",
      "4\n",
      "maddiebanwell\n",
      "18\n",
      "elementa\n",
      "8\n",
      "samw\n",
      "18\n",
      "durril.nin\n",
      "7\n",
      "LewisC\n",
      "4\n",
      "Frazer\n",
      "86\n",
      "Minkovsky\n",
      "66\n",
      "Afro_ben\n",
      "9\n",
      "saroj\n",
      "6\n",
      "DavidBelton\n",
      "10\n",
      "Victoria_Sluka\n",
      "4\n",
      "pip\n",
      "24\n",
      "Leo_Rampen\n",
      "4\n",
      "Alireza_Datoo\n",
      "9\n",
      "Julia\n",
      "152\n",
      "MattG\n",
      "1\n",
      "Ben.Evans\n",
      "6\n",
      "naxxfish\n",
      "5\n",
      "iNerdier\n",
      "35\n",
      "David_C\n",
      "37\n",
      "Jason_L\n",
      "33\n",
      "simoneves\n",
      "5\n",
      "natdel\n",
      "2\n",
      "argilop\n",
      "7\n",
      "lewisss\n",
      "36\n",
      "Johan_the_French\n",
      "3\n",
      "Chris_R\n",
      "9\n",
      "DomRob\n",
      "8\n",
      "Esther_Gladstone\n",
      "27\n",
      "Kuniko\n",
      "1\n",
      "CatHulme\n",
      "1\n",
      "Hoagy\n",
      "6\n",
      "AlessioMorale\n",
      "10\n",
      "Panjapop\n",
      "25\n",
      "JackL\n",
      "1\n",
      "peter_hellyer\n",
      "105\n",
      "techfolderkites\n",
      "44\n",
      "aross\n",
      "11\n",
      "paullewis\n",
      "6\n",
      "Dunk\n",
      "24\n",
      "RoyM\n",
      "13\n",
      "Robin_B\n",
      "76\n"
     ]
    }
   ],
   "metadata": {}
  }
 ]
}