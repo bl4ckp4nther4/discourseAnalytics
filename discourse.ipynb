{
 "metadata": {
  "language_info": {
   "codemirror_mode": {
    "name": "ipython",
    "version": 3
   },
   "file_extension": ".py",
   "mimetype": "text/x-python",
   "name": "python",
   "nbconvert_exporter": "python",
   "pygments_lexer": "ipython3",
   "version": "3.8.8"
  },
  "orig_nbformat": 4,
  "kernelspec": {
   "name": "python3",
   "display_name": "Python 3.8.8 64-bit ('base': conda)"
  },
  "interpreter": {
   "hash": "98b980470ef6997be3337dcc39dafb0b3265acb833033ca39c894c346d1a3731"
  }
 },
 "nbformat": 4,
 "nbformat_minor": 2,
 "cells": [
  {
   "cell_type": "code",
   "execution_count": 2,
   "metadata": {},
   "outputs": [
    {
     "output_type": "stream",
     "name": "stdout",
     "text": [
      "downloading user data:\n"
     ]
    },
    {
     "output_type": "display_data",
     "data": {
      "text/plain": "  0%|          | 0/1392 [00:00<?, ?it/s]",
      "application/vnd.jupyter.widget-view+json": {
       "version_major": 2,
       "version_minor": 0,
       "model_id": "7768d415e43a4057bf59b29a5f96bc2f"
      }
     },
     "metadata": {}
    },
    {
     "output_type": "stream",
     "name": "stdout",
     "text": [
      "saving user profiles json:\n"
     ]
    },
    {
     "output_type": "display_data",
     "data": {
      "text/plain": "  0%|          | 0/2784 [00:00<?, ?it/s]",
      "application/vnd.jupyter.widget-view+json": {
       "version_major": 2,
       "version_minor": 0,
       "model_id": "e2d49bb426144cf9a799fc86b186a26b"
      }
     },
     "metadata": {}
    },
    {
     "output_type": "stream",
     "name": "stdout",
     "text": [
      "saving post histories json:\n"
     ]
    },
    {
     "output_type": "display_data",
     "data": {
      "text/plain": "  0%|          | 0/2784 [00:00<?, ?it/s]",
      "application/vnd.jupyter.widget-view+json": {
       "version_major": 2,
       "version_minor": 0,
       "model_id": "fb66e1d4457947688ca266518d5b9127"
      }
     },
     "metadata": {}
    },
    {
     "output_type": "stream",
     "name": "stdout",
     "text": [
      "{'username': '0atmanTrisOatenisamoderator', 'full_name': 'Tris Oaten', 'member_status': 'Not Member', 'join_timestamp': '1536787935384', 'last_post_timestamp': '1624813428488'}\n{'username': '0atmanTrisOatenisamoderator', 'full_name': 'Tris Oaten', 'member_status': 'Not Member', 'join_timestamp': '1536787935384', 'last_post_timestamp': '1624813428488'}\n{'username': '0atmanTrisOatenisamoderator', 'full_name': 'Tris Oaten', 'member_status': 'Not Member', 'join_timestamp': '1536787935384', 'last_post_timestamp': '1624813428488'}\n{'username': '2DTen', 'full_name': 'Tudor Tenea', 'member_status': 'Not Member', 'join_timestamp': '1558173224228', 'last_post_timestamp': '1583872403755'}\n{'username': '2DTen', 'full_name': 'Tudor Tenea', 'member_status': 'Not Member', 'join_timestamp': '1558173224228', 'last_post_timestamp': '1583872403755'}\n{'username': '2DTen', 'full_name': 'Tudor Tenea', 'member_status': 'Not Member', 'join_timestamp': '1558173224228', 'last_post_timestamp': '1583872403755'}\n{'username': '9600', 'full_name': 'Andrew Back', 'member_status': 'Not Member', 'join_timestamp': '1469702118899', 'last_post_timestamp': '1496394530751'}\n{'username': '9600', 'full_name': 'Andrew Back', 'member_status': 'Not Member', 'join_timestamp': '1469702118899', 'last_post_timestamp': '1496394530751'}\n{'username': '9600', 'full_name': 'Andrew Back', 'member_status': 'Not Member', 'join_timestamp': '1469702118899', 'last_post_timestamp': '1496394530751'}\n{'username': 'ABoldt', 'full_name': 'Andrew Boldt', 'member_status': 'Not Member', 'join_timestamp': '1572871547991', 'last_post_timestamp': '1590702657655'}\n{'username': 'ABoldt', 'full_name': 'Andrew Boldt', 'member_status': 'Not Member', 'join_timestamp': '1572871547991', 'last_post_timestamp': '1590702657655'}\n{'username': 'ABoldt', 'full_name': 'Andrew Boldt', 'member_status': 'Not Member', 'join_timestamp': '1572871547991', 'last_post_timestamp': '1590702657655'}\n{'username': 'AGuyCalledChristian', 'full_name': 'Christian Lowes', 'member_status': 'Not Member', 'join_timestamp': '1523043165596', 'last_post_timestamp': '1536681322031'}\n{'username': 'AGuyCalledChristian', 'full_name': 'Christian Lowes', 'member_status': 'Not Member', 'join_timestamp': '1523043165596', 'last_post_timestamp': '1536681322031'}\n{'username': 'AGuyCalledChristian', 'full_name': 'Christian Lowes', 'member_status': 'Not Member', 'join_timestamp': '1523043165596', 'last_post_timestamp': '1536681322031'}\n{'username': 'ASC', 'full_name': 'Adam Corbett', 'member_status': 'Not Member', 'join_timestamp': '1484915751618', 'last_post_timestamp': '1493893074398'}\n{'username': 'ASC', 'full_name': 'Adam Corbett', 'member_status': 'Not Member', 'join_timestamp': '1484915751618', 'last_post_timestamp': '1493893074398'}\n{'username': 'ASC', 'full_name': 'Adam Corbett', 'member_status': 'Not Member', 'join_timestamp': '1484915751618', 'last_post_timestamp': '1493893074398'}\n{'username': 'AaronFox', 'full_name': 'Aaron Fox', 'member_status': 'Not Member', 'join_timestamp': '1553595356600', 'last_post_timestamp': '1582276009682'}\n{'username': 'AaronFox', 'full_name': 'Aaron Fox', 'member_status': 'Not Member', 'join_timestamp': '1553595356600', 'last_post_timestamp': '1582276009682'}\n{'username': 'AaronFox', 'full_name': 'Aaron Fox', 'member_status': 'Not Member', 'join_timestamp': '1553595356600', 'last_post_timestamp': '1582276009682'}\n{'username': 'Aaron_Rattray', 'full_name': 'Aaron Rattray', 'member_status': 'Not Member', 'join_timestamp': '1471777767834', 'last_post_timestamp': '1492165645194'}\n{'username': 'Aaron_Rattray', 'full_name': 'Aaron Rattray', 'member_status': 'Not Member', 'join_timestamp': '1471777767834', 'last_post_timestamp': '1492165645194'}\n{'username': 'Aaron_Rattray', 'full_name': 'Aaron Rattray', 'member_status': 'Not Member', 'join_timestamp': '1471777767834', 'last_post_timestamp': '1492165645194'}\n{'username': 'AbbyKatt', 'full_name': 'simonhoweslol@gmail.com', 'member_status': 'Not Member', 'join_timestamp': '1582920845018', 'last_post_timestamp': '1586281117621'}\n{'username': 'AbbyKatt', 'full_name': 'simonhoweslol@gmail.com', 'member_status': 'Not Member', 'join_timestamp': '1582920845018', 'last_post_timestamp': '1586281117621'}\n{'username': 'AbbyKatt', 'full_name': 'simonhoweslol@gmail.com', 'member_status': 'Not Member', 'join_timestamp': '1582920845018', 'last_post_timestamp': '1586281117621'}\n{'username': 'Aca', 'full_name': 'Francisco Nicolas Contreras Moreno', 'member_status': 'Not Member', 'join_timestamp': '1553639964888', 'last_post_timestamp': '1574114580200'}\n{'username': 'Aca', 'full_name': 'Francisco Nicolas Contreras Moreno', 'member_status': 'Not Member', 'join_timestamp': '1553639964888', 'last_post_timestamp': '1574114580200'}\n{'username': 'Aca', 'full_name': 'Francisco Nicolas Contreras Moreno', 'member_status': 'Not Member', 'join_timestamp': '1553639964888', 'last_post_timestamp': '1574114580200'}\n{'username': 'Adam', 'full_name': 'Adam Salmon', 'member_status': 'Not Member', 'join_timestamp': '1501934733318', 'last_post_timestamp': '1503215677289'}\n{'username': 'Adam', 'full_name': 'Adam Salmon', 'member_status': 'Not Member', 'join_timestamp': '1501934733318', 'last_post_timestamp': '1503215677289'}\n{'username': 'Adam', 'full_name': 'Adam Salmon', 'member_status': 'Not Member', 'join_timestamp': '1501934733318', 'last_post_timestamp': '1503215677289'}\n{'username': 'AdamH', 'full_name': 'Adam Holden', 'member_status': 'Not Member', 'join_timestamp': '1519312709084', 'last_post_timestamp': '1542959729735'}\n{'username': 'AdamH', 'full_name': 'Adam Holden', 'member_status': 'Not Member', 'join_timestamp': '1519312709084', 'last_post_timestamp': '1542959729735'}\n{'username': 'AdamH', 'full_name': 'Adam Holden', 'member_status': 'Not Member', 'join_timestamp': '1519312709084', 'last_post_timestamp': '1542959729735'}\n{'username': 'Adam_Norrington', 'full_name': 'Adam Norrington', 'member_status': 'Not Member', 'join_timestamp': '1524909849078', 'last_post_timestamp': '1553248313418'}\n{'username': 'Adam_Norrington', 'full_name': 'Adam Norrington', 'member_status': 'Not Member', 'join_timestamp': '1524909849078', 'last_post_timestamp': '1553248313418'}\n{'username': 'Adam_Norrington', 'full_name': 'Adam Norrington', 'member_status': 'Not Member', 'join_timestamp': '1524909849078', 'last_post_timestamp': '1553248313418'}\n{'username': 'Adam_Salmon', 'full_name': 'Adam Salmon', 'member_status': 'Not Member', 'join_timestamp': '1521215538940', 'last_post_timestamp': '1522342422326'}\n{'username': 'Adam_Salmon', 'full_name': 'Adam Salmon', 'member_status': 'Not Member', 'join_timestamp': '1521215538940', 'last_post_timestamp': '1522342422326'}\n{'username': 'Adam_Salmon', 'full_name': 'Adam Salmon', 'member_status': 'Not Member', 'join_timestamp': '1521215538940', 'last_post_timestamp': '1522342422326'}\n{'username': 'Adel', 'full_name': 'Adel Volfova', 'member_status': 'Not Member', 'join_timestamp': '1506537480356', 'last_post_timestamp': '1506685971224'}\n{'username': 'Adel', 'full_name': 'Adel Volfova', 'member_status': 'Not Member', 'join_timestamp': '1506537480356', 'last_post_timestamp': '1506685971224'}\n{'username': 'Adel', 'full_name': 'Adel Volfova', 'member_status': 'Not Member', 'join_timestamp': '1506537480356', 'last_post_timestamp': '1506685971224'}\n{'username': 'Adella', 'full_name': 'Adella Tucker', 'member_status': 'Not Member', 'join_timestamp': '1484826682579', 'last_post_timestamp': '1484835517684'}\n{'username': 'Adella', 'full_name': 'Adella Tucker', 'member_status': 'Not Member', 'join_timestamp': '1484826682579', 'last_post_timestamp': '1484835517684'}\n{'username': 'Adella', 'full_name': 'Adella Tucker', 'member_status': 'Not Member', 'join_timestamp': '1484826682579', 'last_post_timestamp': '1484835517684'}\n{'username': 'Adrian_Godwin', 'full_name': 'Adrian Godwin', 'member_status': 'Not Member', 'join_timestamp': '1472319129660', 'last_post_timestamp': '1493669284365'}\n{'username': 'Adrian_Godwin', 'full_name': 'Adrian Godwin', 'member_status': 'Not Member', 'join_timestamp': '1472319129660', 'last_post_timestamp': '1493669284365'}\n{'username': 'Adrian_Godwin', 'full_name': 'Adrian Godwin', 'member_status': 'Not Member', 'join_timestamp': '1472319129660', 'last_post_timestamp': '1493669284365'}\n{'username': 'Ads', 'full_name': 'Adeline Moreau', 'member_status': 'Not Member', 'join_timestamp': '1472565272763', 'last_post_timestamp': '1472645393669'}\n{'username': 'Ads', 'full_name': 'Adeline Moreau', 'member_status': 'Not Member', 'join_timestamp': '1472565272763', 'last_post_timestamp': '1472645393669'}\n{'username': 'Ads', 'full_name': 'Adeline Moreau', 'member_status': 'Not Member', 'join_timestamp': '1472565272763', 'last_post_timestamp': '1472645393669'}\n{'username': 'Aeneas83', 'full_name': 'simon', 'member_status': 'Not Member', 'join_timestamp': '1530543132710', 'last_post_timestamp': '1530630515000'}\n{'username': 'Aeneas83', 'full_name': 'simon', 'member_status': 'Not Member', 'join_timestamp': '1530543132710', 'last_post_timestamp': '1530630515000'}\n{'username': 'Aeneas83', 'full_name': 'simon', 'member_status': 'Not Member', 'join_timestamp': '1530543132710', 'last_post_timestamp': '1530630515000'}\n{'username': 'Afro_ben', 'full_name': 'Ben B', 'member_status': 'Not Member', 'join_timestamp': '1533470060697', 'last_post_timestamp': '1625103455749'}\n{'username': 'Afro_ben', 'full_name': 'Ben B', 'member_status': 'Not Member', 'join_timestamp': '1533470060697', 'last_post_timestamp': '1625103455749'}\n{'username': 'Afro_ben', 'full_name': 'Ben B', 'member_status': 'Not Member', 'join_timestamp': '1533470060697', 'last_post_timestamp': '1625103455749'}\n{'username': 'Ajesk8', 'full_name': 'Alexandre Jennnison', 'member_status': 'Not Member', 'join_timestamp': '1521324869140', 'last_post_timestamp': '1526803665038'}\n{'username': 'Ajesk8', 'full_name': 'Alexandre Jennnison', 'member_status': 'Not Member', 'join_timestamp': '1521324869140', 'last_post_timestamp': '1526803665038'}\n{'username': 'Ajesk8', 'full_name': 'Alexandre Jennnison', 'member_status': 'Not Member', 'join_timestamp': '1521324869140', 'last_post_timestamp': '1526803665038'}\n{'username': 'AlThorp', 'full_name': 'Alex Thorp', 'member_status': 'Not Member', 'join_timestamp': '1582189373201', 'last_post_timestamp': '1582813575907'}\n{'username': 'AlThorp', 'full_name': 'Alex Thorp', 'member_status': 'Not Member', 'join_timestamp': '1582189373201', 'last_post_timestamp': '1582813575907'}\n{'username': 'AlThorp', 'full_name': 'Alex Thorp', 'member_status': 'Not Member', 'join_timestamp': '1582189373201', 'last_post_timestamp': '1582813575907'}\n{'username': 'Alan_Synnott', 'full_name': 'Alan Synnott', 'member_status': 'Not Member', 'join_timestamp': '1444217896717', 'last_post_timestamp': None}\n"
     ]
    },
    {
     "output_type": "error",
     "ename": "TypeError",
     "evalue": "int() argument must be a string, a bytes-like object or a number, not 'NoneType'",
     "traceback": [
      "\u001b[1;31m---------------------------------------------------------------------------\u001b[0m",
      "\u001b[1;31mTypeError\u001b[0m                                 Traceback (most recent call last)",
      "\u001b[1;32m<ipython-input-2-df8156de2cd8>\u001b[0m in \u001b[0;36m<module>\u001b[1;34m\u001b[0m\n\u001b[0;32m      5\u001b[0m \u001b[1;32mfrom\u001b[0m \u001b[0mpython_script\u001b[0m\u001b[1;33m.\u001b[0m\u001b[0mdata\u001b[0m\u001b[1;33m.\u001b[0m\u001b[0mdiscourse_make_dataset\u001b[0m \u001b[1;32mimport\u001b[0m \u001b[0mMakeDataset\u001b[0m\u001b[1;33m\u001b[0m\u001b[1;33m\u001b[0m\u001b[0m\n\u001b[0;32m      6\u001b[0m \u001b[1;33m\u001b[0m\u001b[0m\n\u001b[1;32m----> 7\u001b[1;33m \u001b[0mdataset\u001b[0m \u001b[1;33m=\u001b[0m \u001b[0mMakeDataset\u001b[0m\u001b[1;33m(\u001b[0m\u001b[1;33m)\u001b[0m\u001b[1;33m(\u001b[0m\u001b[0mWEBSITE_URL\u001b[0m\u001b[1;33m)\u001b[0m\u001b[1;33m\u001b[0m\u001b[1;33m\u001b[0m\u001b[0m\n\u001b[0m\u001b[0;32m      8\u001b[0m \u001b[1;33m\u001b[0m\u001b[0m\n\u001b[0;32m      9\u001b[0m \u001b[1;33m\u001b[0m\u001b[0m\n",
      "\u001b[1;32mc:\\Users\\Thesis\\Documents\\GitHub\\repository_forum\\python_script\\data\\discourse_make_dataset.py\u001b[0m in \u001b[0;36m__call__\u001b[1;34m(self, website_url, dataset_folder, supress_output, overwrite_html, overwrite_json, sleep_time)\u001b[0m\n\u001b[0;32m     27\u001b[0m \u001b[1;33m\u001b[0m\u001b[0m\n\u001b[0;32m     28\u001b[0m         \u001b[0mself\u001b[0m\u001b[1;33m.\u001b[0m\u001b[0mdataLoader\u001b[0m \u001b[1;33m=\u001b[0m \u001b[0mDiscourseDataLoader\u001b[0m\u001b[1;33m(\u001b[0m\u001b[1;33m)\u001b[0m\u001b[1;33m\u001b[0m\u001b[1;33m\u001b[0m\u001b[0m\n\u001b[1;32m---> 29\u001b[1;33m         \u001b[0mprofiles\u001b[0m\u001b[1;33m,\u001b[0m \u001b[0mpost_histories\u001b[0m \u001b[1;33m=\u001b[0m \u001b[0mself\u001b[0m\u001b[1;33m.\u001b[0m\u001b[0mdataLoader\u001b[0m\u001b[1;33m(\u001b[0m\u001b[0mprofiles_json\u001b[0m\u001b[1;33m,\u001b[0m \u001b[0mpost_histories_json\u001b[0m\u001b[1;33m)\u001b[0m\u001b[1;33m\u001b[0m\u001b[1;33m\u001b[0m\u001b[0m\n\u001b[0m\u001b[0;32m     30\u001b[0m \u001b[1;33m\u001b[0m\u001b[0m\n\u001b[0;32m     31\u001b[0m         \u001b[0mall_posts\u001b[0m \u001b[1;33m=\u001b[0m \u001b[0mself\u001b[0m\u001b[1;33m.\u001b[0m\u001b[0m_combine_profiles_and_post_histories\u001b[0m\u001b[1;33m(\u001b[0m\u001b[0mprofiles\u001b[0m\u001b[1;33m,\u001b[0m \u001b[0mpost_histories\u001b[0m\u001b[1;33m)\u001b[0m\u001b[1;33m\u001b[0m\u001b[1;33m\u001b[0m\u001b[0m\n",
      "\u001b[1;32mc:\\Users\\Thesis\\Documents\\GitHub\\repository_forum\\python_script\\data\\discourse_data_loader.py\u001b[0m in \u001b[0;36m__call__\u001b[1;34m(self, profiles_json_list, post_histories_json_list)\u001b[0m\n\u001b[0;32m     33\u001b[0m             \u001b[1;32mfor\u001b[0m \u001b[0mtimestamp_key\u001b[0m \u001b[1;32min\u001b[0m \u001b[0mtimestamp_keys\u001b[0m\u001b[1;33m:\u001b[0m\u001b[1;33m\u001b[0m\u001b[1;33m\u001b[0m\u001b[0m\n\u001b[0;32m     34\u001b[0m                 \u001b[1;32mif\u001b[0m \u001b[0mtimestamp_key\u001b[0m \u001b[1;32min\u001b[0m \u001b[0mprofile\u001b[0m\u001b[1;33m:\u001b[0m\u001b[1;33m\u001b[0m\u001b[1;33m\u001b[0m\u001b[0m\n\u001b[1;32m---> 35\u001b[1;33m                     \u001b[0mprofile\u001b[0m\u001b[1;33m[\u001b[0m\u001b[0mtimestamp_key\u001b[0m\u001b[1;33m]\u001b[0m \u001b[1;33m=\u001b[0m \u001b[0mint\u001b[0m\u001b[1;33m(\u001b[0m\u001b[0mprofile\u001b[0m\u001b[1;33m[\u001b[0m\u001b[0mtimestamp_key\u001b[0m\u001b[1;33m]\u001b[0m\u001b[1;33m)\u001b[0m\u001b[1;33m\u001b[0m\u001b[1;33m\u001b[0m\u001b[0m\n\u001b[0m\u001b[0;32m     36\u001b[0m \u001b[1;33m\u001b[0m\u001b[0m\n\u001b[0;32m     37\u001b[0m             \u001b[0mself\u001b[0m\u001b[1;33m.\u001b[0m\u001b[0mprofiles\u001b[0m\u001b[1;33m.\u001b[0m\u001b[0mappend\u001b[0m\u001b[1;33m(\u001b[0m\u001b[0mprofile\u001b[0m\u001b[1;33m)\u001b[0m\u001b[1;33m\u001b[0m\u001b[1;33m\u001b[0m\u001b[0m\n",
      "\u001b[1;31mTypeError\u001b[0m: int() argument must be a string, a bytes-like object or a number, not 'NoneType'"
     ]
    }
   ],
   "source": [
    "import importlib\n",
    "importlib.import_module('python_script.data.website_base_data')\n",
    "\n",
    "from python_script.data.website_base_data import WEBSITE_URL\n",
    "from python_script.data.discourse_make_dataset import MakeDataset\n",
    "\n",
    "dataset = MakeDataset()(WEBSITE_URL, overwrite_json=True)\n",
    "\n",
    "\n",
    "print(dataset)"
   ]
  },
  {
   "cell_type": "code",
   "execution_count": null,
   "metadata": {},
   "outputs": [],
   "source": []
  }
 ]
}